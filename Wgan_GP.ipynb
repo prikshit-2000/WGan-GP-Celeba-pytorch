{
  "nbformat": 4,
  "nbformat_minor": 0,
  "metadata": {
    "colab": {
      "name": "Wgan-GP.ipynb",
      "provenance": [],
      "collapsed_sections": [],
      "authorship_tag": "ABX9TyP1WMYdfEpP+7m+122sbpKO",
      "include_colab_link": true
    },
    "kernelspec": {
      "name": "python3",
      "display_name": "Python 3"
    },
    "accelerator": "GPU"
  },
  "cells": [
    {
      "cell_type": "markdown",
      "metadata": {
        "id": "view-in-github",
        "colab_type": "text"
      },
      "source": [
        "<a href=\"https://colab.research.google.com/github/prikshit-2000/WGan-GP-Celeba-pytorch/blob/main/Wgan_GP.ipynb\" target=\"_parent\"><img src=\"https://colab.research.google.com/assets/colab-badge.svg\" alt=\"Open In Colab\"/></a>"
      ]
    },
    {
      "cell_type": "code",
      "metadata": {
        "id": "vWn-FjjZ7Gwp"
      },
      "source": [
        "import torch\r\n",
        "import torch.nn as nn\r\n",
        "import torchvision\r\n",
        "import torch.optim as optim\r\n",
        "import torchvision.datasets as datasets\r\n",
        "import torchvision.transforms as transforms\r\n",
        "from torch.utils.data import DataLoader\r\n",
        "from torch.utils.tensorboard import SummaryWriter\r\n"
      ],
      "execution_count": 109,
      "outputs": []
    },
    {
      "cell_type": "code",
      "metadata": {
        "colab": {
          "base_uri": "https://localhost:8080/"
        },
        "id": "BCUQPWfZQYJP",
        "outputId": "4407afdd-8f0b-4297-b7fa-fe9472ca9981"
      },
      "source": [
        "!mkdir data_faces && wget https://s3-us-west-1.amazonaws.com/udacity-dlnfd/datasets/celeba.zip "
      ],
      "execution_count": 110,
      "outputs": [
        {
          "output_type": "stream",
          "text": [
            "mkdir: cannot create directory ‘data_faces’: File exists\n"
          ],
          "name": "stdout"
        }
      ]
    },
    {
      "cell_type": "code",
      "metadata": {
        "id": "v18EzYbWQZeS"
      },
      "source": [
        "import zipfile\r\n",
        "\r\n",
        "with zipfile.ZipFile(\"celeba.zip\",\"r\") as zip_ref:\r\n",
        "  zip_ref.extractall(\"data_faces/\")"
      ],
      "execution_count": 111,
      "outputs": []
    },
    {
      "cell_type": "code",
      "metadata": {
        "colab": {
          "base_uri": "https://localhost:8080/"
        },
        "id": "oS9ie2MWQZmD",
        "outputId": "433b0dd1-cf78-46cf-d37e-7c9736314b80"
      },
      "source": [
        "import os\r\n",
        "root = 'data_faces/img_align_celeba'\r\n",
        "img_list = os.listdir(root)\r\n",
        "print(len(img_list))"
      ],
      "execution_count": 112,
      "outputs": [
        {
          "output_type": "stream",
          "text": [
            "202599\n"
          ],
          "name": "stdout"
        }
      ]
    },
    {
      "cell_type": "code",
      "metadata": {
        "id": "Hkdw_zaX7Kys"
      },
      "source": [
        "\r\n",
        "device = torch.device('cuda')\r\n",
        "LEARNING_RATE = 1e-4\r\n",
        "BATCH_SIZE = 128\r\n",
        "IMAGE_SIZE = 64\r\n",
        "CHANNELS_IMG = 3\r\n",
        "Z_DIM = 100\r\n",
        "NUM_EPOCHS = 5\r\n",
        "FEATURES_CRITIC = 64\r\n",
        "FEATURES_GEN = 64\r\n",
        "CRITIC_ITERATIONS = 5\r\n",
        "LAMBDA_GP = 10\r\n",
        "# WEIGHT_CLIP = 0.01"
      ],
      "execution_count": 161,
      "outputs": []
    },
    {
      "cell_type": "code",
      "metadata": {
        "id": "aeR7DmGc7L6P"
      },
      "source": [
        "my_transforms = transforms.Compose([\r\n",
        "    transforms.Resize((IMAGE_SIZE,IMAGE_SIZE)),\r\n",
        "    transforms.ToTensor(),\r\n",
        "    transforms.Normalize(\r\n",
        "            [0.5 for _ in range(CHANNELS_IMG)], [0.5 for _ in range(CHANNELS_IMG)]),\r\n",
        "    \r\n",
        "]) \r\n",
        "# dataset = MNIST(root='data/',train=True,transform=my_transforms,download=True)\r\n",
        "# dataset = datasets.CelebA(root='data',split=\"train\",transform=my_transforms,download=True)\r\n",
        "# dataset = datasets.CelebA('data', split=\"train\", transform=transforms.ToTensor(), download=True)\r\n",
        "dataset = datasets.ImageFolder(root=\"./data_faces\", transform=my_transforms)\r\n",
        "dataloader =  DataLoader(dataset,BATCH_SIZE,shuffle=True)"
      ],
      "execution_count": 162,
      "outputs": []
    },
    {
      "cell_type": "code",
      "metadata": {
        "id": "rt-UWk6wdQkh"
      },
      "source": [
        "\r\n",
        "# for batch_idx,(real,_) in enumerate(dataset):\r\n",
        "#   if real.shape!=torch.Size([3, 64, 64]):\r\n",
        "#     print(batch_idx,real.shape)\r\n"
      ],
      "execution_count": 163,
      "outputs": []
    },
    {
      "cell_type": "code",
      "metadata": {
        "id": "TpXxXSbw_3p0"
      },
      "source": [
        "class Discriminator(nn.Module):\r\n",
        "\r\n",
        "  def __init__(self,channels_img,features_d):\r\n",
        "    super(Discriminator,self).__init__()\r\n",
        "    self.net = nn.Sequential(\r\n",
        "        nn.Conv2d(channels_img,features_d,kernel_size=4,stride=2,padding=1),\r\n",
        "        nn.InstanceNorm2d(features_d),\r\n",
        "        nn.LeakyReLU(0.2),\r\n",
        "\r\n",
        "        nn.Conv2d(features_d,features_d*2,kernel_size=4,stride=2,padding=1),\r\n",
        "        nn.InstanceNorm2d(features_d*2),\r\n",
        "        nn.LeakyReLU(0.2),\r\n",
        "\r\n",
        "        nn.Conv2d(features_d*2,features_d*4,kernel_size=4,stride=2,padding=1),\r\n",
        "        nn.InstanceNorm2d(features_d*4),\r\n",
        "        nn.LeakyReLU(0.2),\r\n",
        "\r\n",
        "        nn.Conv2d(features_d*4,features_d*8,kernel_size=4,stride=2,padding=1),\r\n",
        "        nn.InstanceNorm2d(features_d*8),\r\n",
        "        nn.LeakyReLU(0.2),\r\n",
        "\r\n",
        "        nn.Conv2d(features_d*8,1,kernel_size=4,stride=2,padding=0),\r\n",
        "        \r\n",
        "    )\r\n",
        "  def forward(self,x):\r\n",
        "    return self.net(x)"
      ],
      "execution_count": 164,
      "outputs": []
    },
    {
      "cell_type": "code",
      "metadata": {
        "id": "H5N3Br9CFro2"
      },
      "source": [
        "class Generator(nn.Module):\r\n",
        "\r\n",
        "  def __init__(self,channels_noise,channels_img,features_g):\r\n",
        "    super(Generator,self).__init__()\r\n",
        "    self.net =nn.Sequential(\r\n",
        "        nn.ConvTranspose2d(channels_noise,features_g*16,kernel_size=4,stride=1,padding=0),\r\n",
        "        nn.BatchNorm2d(features_g*16),\r\n",
        "        nn.ReLU(),\r\n",
        "\r\n",
        "        nn.ConvTranspose2d(features_g*16,features_g*8,kernel_size=4,stride=2,padding=1),\r\n",
        "        nn.BatchNorm2d(features_g*8),\r\n",
        "        nn.ReLU(),\r\n",
        "\r\n",
        "        nn.ConvTranspose2d(features_g*8,features_g*4,kernel_size=4,stride=2,padding=1),\r\n",
        "        nn.BatchNorm2d(features_g*4),\r\n",
        "        nn.ReLU(),\r\n",
        "\r\n",
        "        nn.ConvTranspose2d(features_g*4,features_g*2,kernel_size=4,stride=2,padding=1),\r\n",
        "        nn.BatchNorm2d(features_g*2),\r\n",
        "        nn.ReLU(),\r\n",
        "\r\n",
        "        nn.ConvTranspose2d(features_g*2,channels_img,kernel_size=4,stride=2,padding=1),\r\n",
        "        nn.Tanh()\r\n",
        "        \r\n",
        "           \r\n",
        "\r\n",
        "\r\n",
        "    )\r\n",
        "  def forward(self,x):\r\n",
        "    return self.net(x)"
      ],
      "execution_count": 165,
      "outputs": []
    },
    {
      "cell_type": "code",
      "metadata": {
        "id": "wYyc4x_HGGM3"
      },
      "source": [
        "def initialize_weights(model):\r\n",
        "  for m in model.modules():\r\n",
        "    if isinstance(m, (nn.Conv2d, nn.ConvTranspose2d, nn.BatchNorm2d)):\r\n",
        "      nn.init.normal_(m.weight.data, 0.0, 0.02)"
      ],
      "execution_count": 166,
      "outputs": []
    },
    {
      "cell_type": "code",
      "metadata": {
        "id": "LA5M47Mtymms"
      },
      "source": [
        "def gradient_penalty(critic,real,fake,device='cuda'):\r\n",
        "  BATCH_SIZE, C, H, W = real.shape\r\n",
        "  epsilon = torch.rand((BATCH_SIZE, 1, 1, 1)).repeat(1, C, H, W).to(device)\r\n",
        "  interpolated_images = real * epsilon + fake * (1 - epsilon)\r\n",
        "  \r\n",
        "\r\n",
        "  mixed_scores = critic(interpolated_images)\r\n",
        "\r\n",
        "  gradient = torch.autograd.grad(\r\n",
        "      inputs = interpolated_images,\r\n",
        "      outputs = mixed_scores,\r\n",
        "      grad_outputs = torch.ones_like(mixed_scores),\r\n",
        "      create_graph = True,\r\n",
        "      retain_graph = True,\r\n",
        "      \r\n",
        "  )[0]\r\n",
        "\r\n",
        "  gradient = gradient.view(gradient.shape[0],-1)\r\n",
        "  gradient_norm = gradient.norm(2,dim = 1)\r\n",
        "  gradient_penalty = torch.mean((gradient_norm - 1)**2)\r\n",
        "  return gradient_penalty\r\n"
      ],
      "execution_count": 167,
      "outputs": []
    },
    {
      "cell_type": "code",
      "metadata": {
        "id": "L_4Sqks_RAmv"
      },
      "source": [
        "G = Generator(Z_DIM,CHANNELS_IMG,FEATURES_GEN).to(device)\r\n",
        "C= Discriminator(CHANNELS_IMG,FEATURES_CRITIC).to(device)\r\n",
        "initialize_weights(G)\r\n",
        "initialize_weights(C)"
      ],
      "execution_count": null,
      "outputs": []
    },
    {
      "cell_type": "code",
      "metadata": {
        "id": "dNbFK5y2RFvs"
      },
      "source": [
        "opt_gen = optim.Adam(G.parameters(),lr = LEARNING_RATE, betas=(0.0,0.9))\r\n",
        "opt_critic= optim.Adam(C.parameters(),lr = LEARNING_RATE,betas=(0.0,0.9))"
      ],
      "execution_count": null,
      "outputs": []
    },
    {
      "cell_type": "code",
      "metadata": {
        "id": "l1x7GcmlRIIx"
      },
      "source": [
        "fixed_noise = torch.randn(32,Z_DIM,1,1).to(device)\r\n",
        "writer_real = SummaryWriter(f'logs/real')\r\n",
        "writer_fake = SummaryWriter(f'logs/fake')\r\n",
        "step = 0"
      ],
      "execution_count": null,
      "outputs": []
    },
    {
      "cell_type": "code",
      "metadata": {
        "id": "ShGNWYH8RL0Q"
      },
      "source": [
        "G.train()\r\n",
        "C.train()"
      ],
      "execution_count": null,
      "outputs": []
    },
    {
      "cell_type": "code",
      "metadata": {
        "id": "cIDVlX-DRNLW"
      },
      "source": [
        "for  epoch in range(NUM_EPOCHS):\r\n",
        "  for batch_idx,(real,_) in enumerate(dataloader):\r\n",
        "    real = real.to(device)\r\n",
        "    # print(real.shape)  \r\n",
        "      \r\n",
        "    for _ in range(CRITIC_ITERATIONS):\r\n",
        "      noise = torch.randn(BATCH_SIZE,Z_DIM,1,1).to(device)\r\n",
        "      fake = G(noise)\r\n",
        "      critic_real = C(real).reshape(-1)\r\n",
        "      critic_fake = C(fake).reshape(-1)\r\n",
        "      gp = gradient_penalty(C,real,fake,device=device)\r\n",
        "      loss_critic =  -(torch.mean(critic_real) - torch.mean(critic_fake)) + LAMBDA_GP*gp\r\n",
        "      C.zero_grad()\r\n",
        "      loss_critic.backward(retain_graph = True)\r\n",
        "      opt_critic.step()\r\n",
        "      \r\n",
        "     \r\n",
        "        \r\n",
        "    output = C(fake).reshape(-1)\r\n",
        "    loss_gen = torch.mean(output)\r\n",
        "    G.zero_grad()\r\n",
        "    loss_gen.backward()\r\n",
        "    opt_gen.step()\r\n",
        "    \r\n",
        "    if batch_idx % 100 == 0 and batch_idx > 0:\r\n",
        "      G.eval()\r\n",
        "      C.eval()\r\n",
        "      print(\r\n",
        "          f\"Epoch [{epoch}/{NUM_EPOCHS}] Batch {batch_idx}/{len(dataloader)} \\\r\n",
        "            Loss D: {loss_critic:.4f}, loss G: {loss_gen:.4f}\"\r\n",
        "      )\r\n",
        "\r\n",
        "      with torch.no_grad():\r\n",
        "          fake = G(noise)\r\n",
        "          \r\n",
        "          img_grid_real = torchvision.utils.make_grid(\r\n",
        "              real[:32], normalize=True\r\n",
        "          )\r\n",
        "          img_grid_fake = torchvision.utils.make_grid(\r\n",
        "              fake[:32], normalize=True\r\n",
        "          )\r\n",
        "\r\n",
        "          writer_real.add_image(\"Real\", img_grid_real, global_step=step)\r\n",
        "          writer_fake.add_image(\"Fake\", img_grid_fake, global_step=step)\r\n",
        "\r\n",
        "      step += 1\r\n",
        "      G.train()\r\n",
        "      C.train()\r\n",
        "\r\n",
        "            \r\n",
        "            \r\n",
        "            \r\n",
        "            \r\n",
        "        \r\n",
        "        \r\n",
        "        "
      ],
      "execution_count": null,
      "outputs": []
    },
    {
      "cell_type": "code",
      "metadata": {
        "id": "Dfnlr4L9liz1"
      },
      "source": [
        "%load_ext tensorboard"
      ],
      "execution_count": null,
      "outputs": []
    },
    {
      "cell_type": "code",
      "metadata": {
        "id": "4H8NffqrSA59"
      },
      "source": [
        "tensorboard --logdir /content/logs"
      ],
      "execution_count": null,
      "outputs": []
    },
    {
      "cell_type": "code",
      "metadata": {
        "id": "wt8YK4osSfyt"
      },
      "source": [
        ""
      ],
      "execution_count": null,
      "outputs": []
    }
  ]
}